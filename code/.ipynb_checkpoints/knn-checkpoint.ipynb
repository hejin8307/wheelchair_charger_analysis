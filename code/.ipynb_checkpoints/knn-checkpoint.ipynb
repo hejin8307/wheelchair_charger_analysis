{
 "cells": [
  {
   "cell_type": "markdown",
   "id": "0928e5a5",
   "metadata": {},
   "source": [
    "### 모델 만들기"
   ]
  },
  {
   "cell_type": "code",
   "execution_count": 103,
   "id": "892c3dd7",
   "metadata": {},
   "outputs": [
    {
     "data": {
      "text/html": [
       "<div>\n",
       "<style scoped>\n",
       "    .dataframe tbody tr th:only-of-type {\n",
       "        vertical-align: middle;\n",
       "    }\n",
       "\n",
       "    .dataframe tbody tr th {\n",
       "        vertical-align: top;\n",
       "    }\n",
       "\n",
       "    .dataframe thead th {\n",
       "        text-align: right;\n",
       "    }\n",
       "</style>\n",
       "<table border=\"1\" class=\"dataframe\">\n",
       "  <thead>\n",
       "    <tr style=\"text-align: right;\">\n",
       "      <th></th>\n",
       "      <th>Unnamed: 0</th>\n",
       "      <th>culture</th>\n",
       "      <th>build1</th>\n",
       "      <th>build2</th>\n",
       "      <th>build3</th>\n",
       "      <th>build4</th>\n",
       "      <th>build5</th>\n",
       "      <th>build6</th>\n",
       "      <th>build7</th>\n",
       "      <th>cluster</th>\n",
       "    </tr>\n",
       "  </thead>\n",
       "  <tbody>\n",
       "    <tr>\n",
       "      <th>0</th>\n",
       "      <td>0</td>\n",
       "      <td>0.029197</td>\n",
       "      <td>0.505556</td>\n",
       "      <td>0.171429</td>\n",
       "      <td>0.000000</td>\n",
       "      <td>0.160920</td>\n",
       "      <td>0.157480</td>\n",
       "      <td>0.329399</td>\n",
       "      <td>0.057762</td>\n",
       "      <td>0</td>\n",
       "    </tr>\n",
       "    <tr>\n",
       "      <th>1</th>\n",
       "      <td>1</td>\n",
       "      <td>0.007299</td>\n",
       "      <td>0.411111</td>\n",
       "      <td>0.057143</td>\n",
       "      <td>0.148148</td>\n",
       "      <td>0.022989</td>\n",
       "      <td>0.102362</td>\n",
       "      <td>0.295422</td>\n",
       "      <td>0.043321</td>\n",
       "      <td>0</td>\n",
       "    </tr>\n",
       "    <tr>\n",
       "      <th>2</th>\n",
       "      <td>2</td>\n",
       "      <td>0.029197</td>\n",
       "      <td>0.500000</td>\n",
       "      <td>0.085714</td>\n",
       "      <td>0.148148</td>\n",
       "      <td>0.103448</td>\n",
       "      <td>0.118110</td>\n",
       "      <td>0.447783</td>\n",
       "      <td>0.032491</td>\n",
       "      <td>0</td>\n",
       "    </tr>\n",
       "    <tr>\n",
       "      <th>3</th>\n",
       "      <td>3</td>\n",
       "      <td>0.021898</td>\n",
       "      <td>0.316667</td>\n",
       "      <td>0.095238</td>\n",
       "      <td>0.037037</td>\n",
       "      <td>0.126437</td>\n",
       "      <td>0.086614</td>\n",
       "      <td>0.340486</td>\n",
       "      <td>0.010830</td>\n",
       "      <td>0</td>\n",
       "    </tr>\n",
       "    <tr>\n",
       "      <th>4</th>\n",
       "      <td>4</td>\n",
       "      <td>0.000000</td>\n",
       "      <td>0.405556</td>\n",
       "      <td>0.057143</td>\n",
       "      <td>0.074074</td>\n",
       "      <td>0.011494</td>\n",
       "      <td>0.031496</td>\n",
       "      <td>0.244993</td>\n",
       "      <td>0.043321</td>\n",
       "      <td>0</td>\n",
       "    </tr>\n",
       "    <tr>\n",
       "      <th>...</th>\n",
       "      <td>...</td>\n",
       "      <td>...</td>\n",
       "      <td>...</td>\n",
       "      <td>...</td>\n",
       "      <td>...</td>\n",
       "      <td>...</td>\n",
       "      <td>...</td>\n",
       "      <td>...</td>\n",
       "      <td>...</td>\n",
       "      <td>...</td>\n",
       "    </tr>\n",
       "    <tr>\n",
       "      <th>513</th>\n",
       "      <td>513</td>\n",
       "      <td>0.000000</td>\n",
       "      <td>0.244444</td>\n",
       "      <td>0.009524</td>\n",
       "      <td>0.000000</td>\n",
       "      <td>0.022989</td>\n",
       "      <td>0.007874</td>\n",
       "      <td>0.017883</td>\n",
       "      <td>0.003610</td>\n",
       "      <td>0</td>\n",
       "    </tr>\n",
       "    <tr>\n",
       "      <th>514</th>\n",
       "      <td>514</td>\n",
       "      <td>0.007299</td>\n",
       "      <td>0.216667</td>\n",
       "      <td>0.057143</td>\n",
       "      <td>0.037037</td>\n",
       "      <td>0.022989</td>\n",
       "      <td>0.023622</td>\n",
       "      <td>0.045422</td>\n",
       "      <td>0.021661</td>\n",
       "      <td>0</td>\n",
       "    </tr>\n",
       "    <tr>\n",
       "      <th>515</th>\n",
       "      <td>515</td>\n",
       "      <td>0.029197</td>\n",
       "      <td>0.200000</td>\n",
       "      <td>0.095238</td>\n",
       "      <td>0.037037</td>\n",
       "      <td>0.022989</td>\n",
       "      <td>0.039370</td>\n",
       "      <td>0.061874</td>\n",
       "      <td>0.007220</td>\n",
       "      <td>0</td>\n",
       "    </tr>\n",
       "    <tr>\n",
       "      <th>516</th>\n",
       "      <td>516</td>\n",
       "      <td>0.058394</td>\n",
       "      <td>0.700000</td>\n",
       "      <td>0.219048</td>\n",
       "      <td>0.259259</td>\n",
       "      <td>0.103448</td>\n",
       "      <td>0.149606</td>\n",
       "      <td>0.369099</td>\n",
       "      <td>0.104693</td>\n",
       "      <td>0</td>\n",
       "    </tr>\n",
       "    <tr>\n",
       "      <th>517</th>\n",
       "      <td>517</td>\n",
       "      <td>0.029197</td>\n",
       "      <td>0.227778</td>\n",
       "      <td>0.066667</td>\n",
       "      <td>0.037037</td>\n",
       "      <td>0.011494</td>\n",
       "      <td>0.055118</td>\n",
       "      <td>0.062589</td>\n",
       "      <td>0.007220</td>\n",
       "      <td>0</td>\n",
       "    </tr>\n",
       "  </tbody>\n",
       "</table>\n",
       "<p>518 rows × 10 columns</p>\n",
       "</div>"
      ],
      "text/plain": [
       "     Unnamed: 0   culture    build1    build2    build3    build4    build5  \\\n",
       "0             0  0.029197  0.505556  0.171429  0.000000  0.160920  0.157480   \n",
       "1             1  0.007299  0.411111  0.057143  0.148148  0.022989  0.102362   \n",
       "2             2  0.029197  0.500000  0.085714  0.148148  0.103448  0.118110   \n",
       "3             3  0.021898  0.316667  0.095238  0.037037  0.126437  0.086614   \n",
       "4             4  0.000000  0.405556  0.057143  0.074074  0.011494  0.031496   \n",
       "..          ...       ...       ...       ...       ...       ...       ...   \n",
       "513         513  0.000000  0.244444  0.009524  0.000000  0.022989  0.007874   \n",
       "514         514  0.007299  0.216667  0.057143  0.037037  0.022989  0.023622   \n",
       "515         515  0.029197  0.200000  0.095238  0.037037  0.022989  0.039370   \n",
       "516         516  0.058394  0.700000  0.219048  0.259259  0.103448  0.149606   \n",
       "517         517  0.029197  0.227778  0.066667  0.037037  0.011494  0.055118   \n",
       "\n",
       "       build6    build7  cluster  \n",
       "0    0.329399  0.057762        0  \n",
       "1    0.295422  0.043321        0  \n",
       "2    0.447783  0.032491        0  \n",
       "3    0.340486  0.010830        0  \n",
       "4    0.244993  0.043321        0  \n",
       "..        ...       ...      ...  \n",
       "513  0.017883  0.003610        0  \n",
       "514  0.045422  0.021661        0  \n",
       "515  0.061874  0.007220        0  \n",
       "516  0.369099  0.104693        0  \n",
       "517  0.062589  0.007220        0  \n",
       "\n",
       "[518 rows x 10 columns]"
      ]
     },
     "execution_count": 103,
     "metadata": {},
     "output_type": "execute_result"
    }
   ],
   "source": [
    "from sklearn.datasets import load_breast_cancer\n",
    "import pandas as pd\n",
    "\n",
    "file = pd.read_csv('C:/Users/user/Desktop/internship/project/data/군집분석/군집화_결과.csv', encoding='euc-kr')\n",
    "file"
   ]
  },
  {
   "cell_type": "code",
   "execution_count": 104,
   "id": "94322149",
   "metadata": {},
   "outputs": [
    {
     "data": {
      "text/plain": [
       "KNeighborsClassifier(leaf_size=5, n_neighbors=1)"
      ]
     },
     "execution_count": 104,
     "metadata": {},
     "output_type": "execute_result"
    }
   ],
   "source": [
    "from sklearn.neighbors import KNeighborsClassifier\n",
    "from sklearn.model_selection import GridSearchCV\n",
    "import pandas as pd\n",
    "\n",
    "knn_parameters = [{\n",
    "    'n_neighbors': [1,3,5,7, 9, 11],\n",
    "    'leaf_size': [5, 10, 15, 20, 25, 30, 35, 40, 45, 50, 55, 60],\n",
    "    'algorithm': ['auto', 'ball_tree', 'kd_tree', 'brute'],\n",
    "    'weights': ['uniform', 'distance']}]\n",
    "knn_classifier = KNeighborsClassifier()\n",
    "clf = GridSearchCV(estimator = knn_classifier, param_grid = knn_parameters, scoring = 'accuracy', n_jobs=-1, cv=3)\n",
    "clf.fit(file_data, file_label)\n",
    "clf.best_estimator_\n",
    "# result:\n",
    "# KNeighborsClassifier(algorithm='auto', leaf_size=5, metric='minkowski',\n",
    "#                      metric_params=None, n_jobs=None, n_neighbors=5, p=2,\n",
    "#                      weights='uniform')"
   ]
  },
  {
   "cell_type": "code",
   "execution_count": 89,
   "id": "d6fc587c",
   "metadata": {},
   "outputs": [
    {
     "data": {
      "text/plain": [
       "0      0\n",
       "1      0\n",
       "2      0\n",
       "3      0\n",
       "4      0\n",
       "      ..\n",
       "513    0\n",
       "514    0\n",
       "515    0\n",
       "516    0\n",
       "517    0\n",
       "Name: cluster, Length: 518, dtype: int64"
      ]
     },
     "execution_count": 89,
     "metadata": {},
     "output_type": "execute_result"
    }
   ],
   "source": [
    "file_data = file.loc[:, ['culture', 'build1', 'build2', 'build3', 'build4', 'build5', 'build6', 'build7']]\n",
    "file_data\n",
    "\n",
    "file_label = file['cluster']\n",
    "file_label"
   ]
  },
  {
   "cell_type": "code",
   "execution_count": 84,
   "id": "72ad0940",
   "metadata": {},
   "outputs": [
    {
     "name": "stdout",
     "output_type": "stream",
     "text": [
      "Collecting imblearn\n",
      "  Downloading imblearn-0.0-py2.py3-none-any.whl (1.9 kB)\n",
      "Collecting imbalanced-learn\n",
      "  Downloading imbalanced_learn-0.8.0-py3-none-any.whl (206 kB)\n",
      "Requirement already satisfied: numpy>=1.13.3 in c:\\users\\user\\anaconda3\\lib\\site-packages (from imbalanced-learn->imblearn) (1.20.1)\n",
      "Requirement already satisfied: scipy>=0.19.1 in c:\\users\\user\\anaconda3\\lib\\site-packages (from imbalanced-learn->imblearn) (1.6.2)\n",
      "Requirement already satisfied: joblib>=0.11 in c:\\users\\user\\anaconda3\\lib\\site-packages (from imbalanced-learn->imblearn) (1.0.1)\n",
      "Requirement already satisfied: scikit-learn>=0.24 in c:\\users\\user\\anaconda3\\lib\\site-packages (from imbalanced-learn->imblearn) (0.24.1)\n",
      "Requirement already satisfied: threadpoolctl>=2.0.0 in c:\\users\\user\\anaconda3\\lib\\site-packages (from scikit-learn>=0.24->imbalanced-learn->imblearn) (2.1.0)\n",
      "Installing collected packages: imbalanced-learn, imblearn\n",
      "Successfully installed imbalanced-learn-0.8.0 imblearn-0.0\n"
     ]
    }
   ],
   "source": [
    "!pip install imblearn"
   ]
  },
  {
   "cell_type": "code",
   "execution_count": 90,
   "id": "6602e221",
   "metadata": {},
   "outputs": [],
   "source": [
    "from imblearn.over_sampling import SMOTE\n",
    "\n",
    "smote = SMOTE(random_state = 0)\n",
    "train_data_over, train_label_over = smote.fit_resample(file_data, file_label)"
   ]
  },
  {
   "cell_type": "code",
   "execution_count": 91,
   "id": "3d3f4e03",
   "metadata": {},
   "outputs": [],
   "source": [
    "from sklearn.model_selection import train_test_split\n",
    "\n",
    "train_data, test_data, train_label, test_label = train_test_split(train_data_over, train_label_over, test_size = 0.2, random_state = 100)"
   ]
  },
  {
   "cell_type": "code",
   "execution_count": 92,
   "id": "0c493907",
   "metadata": {
    "scrolled": true
   },
   "outputs": [
    {
     "name": "stdout",
     "output_type": "stream",
     "text": [
      "798\n",
      "200\n",
      "798\n",
      "200\n"
     ]
    }
   ],
   "source": [
    "print(len(train_data))\n",
    "print(len(test_data))\n",
    "print(len(train_label))\n",
    "print(len(test_label))"
   ]
  },
  {
   "cell_type": "code",
   "execution_count": 93,
   "id": "9d1665a6",
   "metadata": {},
   "outputs": [],
   "source": [
    "from sklearn.neighbors import KNeighborsClassifier\n",
    "\n",
    "classifier = KNeighborsClassifier(n_neighbors = 7)"
   ]
  },
  {
   "cell_type": "code",
   "execution_count": 94,
   "id": "0a32d87e",
   "metadata": {},
   "outputs": [
    {
     "data": {
      "text/plain": [
       "KNeighborsClassifier(n_neighbors=7)"
      ]
     },
     "execution_count": 94,
     "metadata": {},
     "output_type": "execute_result"
    }
   ],
   "source": [
    "classifier.fit(train_data, train_label)"
   ]
  },
  {
   "cell_type": "code",
   "execution_count": 95,
   "id": "172936fe",
   "metadata": {},
   "outputs": [
    {
     "data": {
      "text/html": [
       "<div>\n",
       "<style scoped>\n",
       "    .dataframe tbody tr th:only-of-type {\n",
       "        vertical-align: middle;\n",
       "    }\n",
       "\n",
       "    .dataframe tbody tr th {\n",
       "        vertical-align: top;\n",
       "    }\n",
       "\n",
       "    .dataframe thead th {\n",
       "        text-align: right;\n",
       "    }\n",
       "</style>\n",
       "<table border=\"1\" class=\"dataframe\">\n",
       "  <thead>\n",
       "    <tr style=\"text-align: right;\">\n",
       "      <th></th>\n",
       "      <th>culture</th>\n",
       "      <th>build1</th>\n",
       "      <th>build2</th>\n",
       "      <th>build3</th>\n",
       "      <th>build4</th>\n",
       "      <th>build5</th>\n",
       "      <th>build6</th>\n",
       "      <th>build7</th>\n",
       "    </tr>\n",
       "  </thead>\n",
       "  <tbody>\n",
       "    <tr>\n",
       "      <th>159</th>\n",
       "      <td>0.116788</td>\n",
       "      <td>0.177778</td>\n",
       "      <td>0.076190</td>\n",
       "      <td>0.074074</td>\n",
       "      <td>0.000000</td>\n",
       "      <td>0.031496</td>\n",
       "      <td>0.201001</td>\n",
       "      <td>0.086643</td>\n",
       "    </tr>\n",
       "    <tr>\n",
       "      <th>500</th>\n",
       "      <td>0.080292</td>\n",
       "      <td>0.411111</td>\n",
       "      <td>0.076190</td>\n",
       "      <td>0.000000</td>\n",
       "      <td>0.310345</td>\n",
       "      <td>0.110236</td>\n",
       "      <td>0.179542</td>\n",
       "      <td>0.111913</td>\n",
       "    </tr>\n",
       "    <tr>\n",
       "      <th>402</th>\n",
       "      <td>0.007299</td>\n",
       "      <td>0.572222</td>\n",
       "      <td>0.247619</td>\n",
       "      <td>0.037037</td>\n",
       "      <td>0.091954</td>\n",
       "      <td>0.165354</td>\n",
       "      <td>0.431330</td>\n",
       "      <td>0.050542</td>\n",
       "    </tr>\n",
       "    <tr>\n",
       "      <th>551</th>\n",
       "      <td>0.341203</td>\n",
       "      <td>0.477845</td>\n",
       "      <td>0.135405</td>\n",
       "      <td>0.443049</td>\n",
       "      <td>0.321308</td>\n",
       "      <td>0.184891</td>\n",
       "      <td>0.521629</td>\n",
       "      <td>0.108606</td>\n",
       "    </tr>\n",
       "    <tr>\n",
       "      <th>25</th>\n",
       "      <td>0.080292</td>\n",
       "      <td>0.361111</td>\n",
       "      <td>0.114286</td>\n",
       "      <td>0.407407</td>\n",
       "      <td>0.045977</td>\n",
       "      <td>0.220472</td>\n",
       "      <td>0.343348</td>\n",
       "      <td>0.075812</td>\n",
       "    </tr>\n",
       "    <tr>\n",
       "      <th>...</th>\n",
       "      <td>...</td>\n",
       "      <td>...</td>\n",
       "      <td>...</td>\n",
       "      <td>...</td>\n",
       "      <td>...</td>\n",
       "      <td>...</td>\n",
       "      <td>...</td>\n",
       "      <td>...</td>\n",
       "    </tr>\n",
       "    <tr>\n",
       "      <th>855</th>\n",
       "      <td>0.818330</td>\n",
       "      <td>0.580444</td>\n",
       "      <td>0.080931</td>\n",
       "      <td>0.148807</td>\n",
       "      <td>0.850319</td>\n",
       "      <td>0.235765</td>\n",
       "      <td>0.339461</td>\n",
       "      <td>0.462672</td>\n",
       "    </tr>\n",
       "    <tr>\n",
       "      <th>871</th>\n",
       "      <td>0.228263</td>\n",
       "      <td>0.537710</td>\n",
       "      <td>0.120006</td>\n",
       "      <td>0.556080</td>\n",
       "      <td>0.278175</td>\n",
       "      <td>0.188976</td>\n",
       "      <td>0.584380</td>\n",
       "      <td>0.091746</td>\n",
       "    </tr>\n",
       "    <tr>\n",
       "      <th>835</th>\n",
       "      <td>0.917895</td>\n",
       "      <td>0.482649</td>\n",
       "      <td>0.067263</td>\n",
       "      <td>0.087993</td>\n",
       "      <td>0.954718</td>\n",
       "      <td>0.303617</td>\n",
       "      <td>0.261626</td>\n",
       "      <td>0.541298</td>\n",
       "    </tr>\n",
       "    <tr>\n",
       "      <th>792</th>\n",
       "      <td>0.358102</td>\n",
       "      <td>0.433000</td>\n",
       "      <td>0.056001</td>\n",
       "      <td>0.888889</td>\n",
       "      <td>0.127815</td>\n",
       "      <td>0.451179</td>\n",
       "      <td>0.965706</td>\n",
       "      <td>0.187657</td>\n",
       "    </tr>\n",
       "    <tr>\n",
       "      <th>520</th>\n",
       "      <td>0.550859</td>\n",
       "      <td>0.630092</td>\n",
       "      <td>0.116093</td>\n",
       "      <td>0.118140</td>\n",
       "      <td>0.806515</td>\n",
       "      <td>0.301874</td>\n",
       "      <td>0.252242</td>\n",
       "      <td>0.263037</td>\n",
       "    </tr>\n",
       "  </tbody>\n",
       "</table>\n",
       "<p>798 rows × 8 columns</p>\n",
       "</div>"
      ],
      "text/plain": [
       "      culture    build1    build2    build3    build4    build5    build6  \\\n",
       "159  0.116788  0.177778  0.076190  0.074074  0.000000  0.031496  0.201001   \n",
       "500  0.080292  0.411111  0.076190  0.000000  0.310345  0.110236  0.179542   \n",
       "402  0.007299  0.572222  0.247619  0.037037  0.091954  0.165354  0.431330   \n",
       "551  0.341203  0.477845  0.135405  0.443049  0.321308  0.184891  0.521629   \n",
       "25   0.080292  0.361111  0.114286  0.407407  0.045977  0.220472  0.343348   \n",
       "..        ...       ...       ...       ...       ...       ...       ...   \n",
       "855  0.818330  0.580444  0.080931  0.148807  0.850319  0.235765  0.339461   \n",
       "871  0.228263  0.537710  0.120006  0.556080  0.278175  0.188976  0.584380   \n",
       "835  0.917895  0.482649  0.067263  0.087993  0.954718  0.303617  0.261626   \n",
       "792  0.358102  0.433000  0.056001  0.888889  0.127815  0.451179  0.965706   \n",
       "520  0.550859  0.630092  0.116093  0.118140  0.806515  0.301874  0.252242   \n",
       "\n",
       "       build7  \n",
       "159  0.086643  \n",
       "500  0.111913  \n",
       "402  0.050542  \n",
       "551  0.108606  \n",
       "25   0.075812  \n",
       "..        ...  \n",
       "855  0.462672  \n",
       "871  0.091746  \n",
       "835  0.541298  \n",
       "792  0.187657  \n",
       "520  0.263037  \n",
       "\n",
       "[798 rows x 8 columns]"
      ]
     },
     "execution_count": 95,
     "metadata": {},
     "output_type": "execute_result"
    }
   ],
   "source": [
    "train_data"
   ]
  },
  {
   "cell_type": "code",
   "execution_count": 96,
   "id": "03e7f4bb",
   "metadata": {},
   "outputs": [
    {
     "name": "stdout",
     "output_type": "stream",
     "text": [
      "1.0\n"
     ]
    }
   ],
   "source": [
    "print(classifier.score(test_data, test_label))"
   ]
  },
  {
   "cell_type": "code",
   "execution_count": 97,
   "id": "ceaf6b2f",
   "metadata": {},
   "outputs": [
    {
     "name": "stdout",
     "output_type": "stream",
     "text": [
      "1.0\n"
     ]
    }
   ],
   "source": [
    "print(classifier.score(train_data, train_label))"
   ]
  },
  {
   "cell_type": "code",
   "execution_count": 98,
   "id": "ae9e91da",
   "metadata": {},
   "outputs": [
    {
     "name": "stdout",
     "output_type": "stream",
     "text": [
      "[1 1 1 0 0 0 1 0 0 0 1 1 1 0 1 0 0 1 1 1 1 1 1 0 1 0 0 0 1 0 1 1 0 1 0 0 1\n",
      " 0 1 1 0 0 0 1 0 1 0 1 0 0 0 1 0 0 1 0 1 1 0 1 0 1 1 0 0 1 0 0 0 0 0 1 1 0\n",
      " 1 0 1 1 0 0 0 1 0 0 0 0 1 0 1 0 1 0 0 0 1 0 0 0 0 0 1 0 0 0 0 0 1 1 0 1 1\n",
      " 0 1 0 0 0 0 1 0 0 1 1 0 1 1 0 1 1 0 0 0 0 0 0 1 1 0 0 0 1 1 0 0 0 0 0 0 0\n",
      " 0 1 1 0 0 0 0 1 1 0 1 0 0 1 0 1 1 1 0 1 1 1 0 0 1 0 0 0 1 1 1 1 0 1 1 0 0\n",
      " 0 1 0 1 0 1 0 1 1 1 0 1 1 1 1]\n"
     ]
    }
   ],
   "source": [
    "y_pred = classifier.predict(test_data)\n",
    "print(y_pred)"
   ]
  },
  {
   "cell_type": "code",
   "execution_count": 99,
   "id": "2ed9ce43",
   "metadata": {},
   "outputs": [
    {
     "name": "stdout",
     "output_type": "stream",
     "text": [
      "[[111   0]\n",
      " [  0  89]]\n"
     ]
    }
   ],
   "source": [
    "from sklearn.metrics import confusion_matrix\n",
    "conf_matrix= confusion_matrix(test_label, y_pred)\n",
    "print(conf_matrix)"
   ]
  },
  {
   "cell_type": "code",
   "execution_count": 100,
   "id": "b7f5f368",
   "metadata": {},
   "outputs": [
    {
     "name": "stdout",
     "output_type": "stream",
     "text": [
      "              precision    recall  f1-score   support\n",
      "\n",
      "           0       1.00      1.00      1.00       111\n",
      "           1       1.00      1.00      1.00        89\n",
      "\n",
      "    accuracy                           1.00       200\n",
      "   macro avg       1.00      1.00      1.00       200\n",
      "weighted avg       1.00      1.00      1.00       200\n",
      "\n"
     ]
    }
   ],
   "source": [
    "from sklearn.metrics import classification_report\n",
    "report = classification_report(test_label, y_pred)\n",
    "print(report)"
   ]
  },
  {
   "cell_type": "code",
   "execution_count": 73,
   "id": "33f753ab",
   "metadata": {},
   "outputs": [
    {
     "data": {
      "image/png": "[encoded data removed]",
      "text/plain": [
       "<Figure size 432x288 with 1 Axes>"
      ]
     },
     "metadata": {
      "needs_background": "light"
     },
     "output_type": "display_data"
    }
   ],
   "source": [
    "import matplotlib.pyplot as plt\n",
    "k_list = range(1,101)\n",
    "accuracies = []\n",
    "for k in k_list:\n",
    "  classifier = KNeighborsClassifier(n_neighbors = k)\n",
    "  classifier.fit(train_data, train_label)\n",
    "  accuracies.append(classifier.score(test_data, test_label))\n",
    "plt.plot(k_list, accuracies)\n",
    "plt.xlabel(\"k\")\n",
    "plt.ylabel(\"Test Accuracy\")\n",
    "# plt.title(\"Breast Cancer Classifier Accuracy\")\n",
    "plt.show()"
   ]
  },
  {
   "cell_type": "markdown",
   "id": "4760ccd6",
   "metadata": {},
   "source": [
    "### new data 예측"
   ]
  },
  {
   "cell_type": "code",
   "execution_count": 101,
   "id": "5ed7d530",
   "metadata": {
    "scrolled": true
   },
   "outputs": [
    {
     "data": {
      "text/html": [
       "<div>\n",
       "<style scoped>\n",
       "    .dataframe tbody tr th:only-of-type {\n",
       "        vertical-align: middle;\n",
       "    }\n",
       "\n",
       "    .dataframe tbody tr th {\n",
       "        vertical-align: top;\n",
       "    }\n",
       "\n",
       "    .dataframe thead th {\n",
       "        text-align: right;\n",
       "    }\n",
       "</style>\n",
       "<table border=\"1\" class=\"dataframe\">\n",
       "  <thead>\n",
       "    <tr style=\"text-align: right;\">\n",
       "      <th></th>\n",
       "      <th>build1</th>\n",
       "      <th>build2</th>\n",
       "      <th>build3</th>\n",
       "      <th>build4</th>\n",
       "      <th>build5</th>\n",
       "      <th>build6</th>\n",
       "      <th>build7</th>\n",
       "      <th>culture</th>\n",
       "    </tr>\n",
       "  </thead>\n",
       "  <tbody>\n",
       "    <tr>\n",
       "      <th>0</th>\n",
       "      <td>0.0</td>\n",
       "      <td>0.0</td>\n",
       "      <td>0.0</td>\n",
       "      <td>10.0</td>\n",
       "      <td>0.0</td>\n",
       "      <td>0.0</td>\n",
       "      <td>1.0</td>\n",
       "      <td>0.0</td>\n",
       "    </tr>\n",
       "    <tr>\n",
       "      <th>1</th>\n",
       "      <td>0.0</td>\n",
       "      <td>0.0</td>\n",
       "      <td>0.0</td>\n",
       "      <td>6.0</td>\n",
       "      <td>2.0</td>\n",
       "      <td>9.0</td>\n",
       "      <td>0.0</td>\n",
       "      <td>0.0</td>\n",
       "    </tr>\n",
       "    <tr>\n",
       "      <th>2</th>\n",
       "      <td>0.0</td>\n",
       "      <td>0.0</td>\n",
       "      <td>0.0</td>\n",
       "      <td>0.0</td>\n",
       "      <td>0.0</td>\n",
       "      <td>3.0</td>\n",
       "      <td>0.0</td>\n",
       "      <td>0.0</td>\n",
       "    </tr>\n",
       "    <tr>\n",
       "      <th>3</th>\n",
       "      <td>0.0</td>\n",
       "      <td>0.0</td>\n",
       "      <td>0.0</td>\n",
       "      <td>0.0</td>\n",
       "      <td>1.0</td>\n",
       "      <td>98.0</td>\n",
       "      <td>0.0</td>\n",
       "      <td>0.0</td>\n",
       "    </tr>\n",
       "    <tr>\n",
       "      <th>4</th>\n",
       "      <td>0.0</td>\n",
       "      <td>0.0</td>\n",
       "      <td>0.0</td>\n",
       "      <td>0.0</td>\n",
       "      <td>4.0</td>\n",
       "      <td>22.0</td>\n",
       "      <td>1.0</td>\n",
       "      <td>0.0</td>\n",
       "    </tr>\n",
       "    <tr>\n",
       "      <th>...</th>\n",
       "      <td>...</td>\n",
       "      <td>...</td>\n",
       "      <td>...</td>\n",
       "      <td>...</td>\n",
       "      <td>...</td>\n",
       "      <td>...</td>\n",
       "      <td>...</td>\n",
       "      <td>...</td>\n",
       "    </tr>\n",
       "    <tr>\n",
       "      <th>135</th>\n",
       "      <td>0.0</td>\n",
       "      <td>0.0</td>\n",
       "      <td>0.0</td>\n",
       "      <td>0.0</td>\n",
       "      <td>0.0</td>\n",
       "      <td>10.0</td>\n",
       "      <td>0.0</td>\n",
       "      <td>0.0</td>\n",
       "    </tr>\n",
       "    <tr>\n",
       "      <th>136</th>\n",
       "      <td>0.0</td>\n",
       "      <td>0.0</td>\n",
       "      <td>0.0</td>\n",
       "      <td>0.0</td>\n",
       "      <td>0.0</td>\n",
       "      <td>3.0</td>\n",
       "      <td>0.0</td>\n",
       "      <td>0.0</td>\n",
       "    </tr>\n",
       "    <tr>\n",
       "      <th>137</th>\n",
       "      <td>1.0</td>\n",
       "      <td>0.0</td>\n",
       "      <td>0.0</td>\n",
       "      <td>0.0</td>\n",
       "      <td>0.0</td>\n",
       "      <td>0.0</td>\n",
       "      <td>0.0</td>\n",
       "      <td>0.0</td>\n",
       "    </tr>\n",
       "    <tr>\n",
       "      <th>138</th>\n",
       "      <td>0.0</td>\n",
       "      <td>0.0</td>\n",
       "      <td>0.0</td>\n",
       "      <td>0.0</td>\n",
       "      <td>0.0</td>\n",
       "      <td>1.0</td>\n",
       "      <td>0.0</td>\n",
       "      <td>0.0</td>\n",
       "    </tr>\n",
       "    <tr>\n",
       "      <th>139</th>\n",
       "      <td>0.0</td>\n",
       "      <td>0.0</td>\n",
       "      <td>0.0</td>\n",
       "      <td>0.0</td>\n",
       "      <td>0.0</td>\n",
       "      <td>0.0</td>\n",
       "      <td>0.0</td>\n",
       "      <td>0.0</td>\n",
       "    </tr>\n",
       "  </tbody>\n",
       "</table>\n",
       "<p>140 rows × 8 columns</p>\n",
       "</div>"
      ],
      "text/plain": [
       "     build1  build2  build3  build4  build5  build6  build7  culture\n",
       "0       0.0     0.0     0.0    10.0     0.0     0.0     1.0      0.0\n",
       "1       0.0     0.0     0.0     6.0     2.0     9.0     0.0      0.0\n",
       "2       0.0     0.0     0.0     0.0     0.0     3.0     0.0      0.0\n",
       "3       0.0     0.0     0.0     0.0     1.0    98.0     0.0      0.0\n",
       "4       0.0     0.0     0.0     0.0     4.0    22.0     1.0      0.0\n",
       "..      ...     ...     ...     ...     ...     ...     ...      ...\n",
       "135     0.0     0.0     0.0     0.0     0.0    10.0     0.0      0.0\n",
       "136     0.0     0.0     0.0     0.0     0.0     3.0     0.0      0.0\n",
       "137     1.0     0.0     0.0     0.0     0.0     0.0     0.0      0.0\n",
       "138     0.0     0.0     0.0     0.0     0.0     1.0     0.0      0.0\n",
       "139     0.0     0.0     0.0     0.0     0.0     0.0     0.0      0.0\n",
       "\n",
       "[140 rows x 8 columns]"
      ]
     },
     "execution_count": 101,
     "metadata": {},
     "output_type": "execute_result"
    }
   ],
   "source": [
    "file2 = pd.read_csv('C:/Users/user/Desktop/internship/project/data/머신러닝/dongjak_final.csv', encoding='euc-kr')\n",
    "file2\n",
    "\n",
    "file2 = file2.iloc[:, :-1]\n",
    "file2"
   ]
  },
  {
   "cell_type": "code",
   "execution_count": 102,
   "id": "b22841d7",
   "metadata": {},
   "outputs": [
    {
     "name": "stdout",
     "output_type": "stream",
     "text": [
      "[1 1 0 0 0 0 0 0 1 0 0 1 0 0 0 1 0 0 0 0 0 0 0 0 0 0 0 1 0 0 0 0 0 0 0 0 0\n",
      " 0 0 0 0 0 0 0 0 0 0 0 0 0 0 0 1 0 0 0 0 0 0 0 0 0 0 0 0 0 0 0 0 0 0 0 0 0\n",
      " 0 0 0 0 0 0 0 0 0 0 0 0 0 0 0 0 0 0 0 0 0 0 0 0 0 0 0 0 0 0 0 0 0 0 0 0 0\n",
      " 0 0 0 0 0 0 0 0 0 0 0 0 0 0 0 0 0 0 0 0 0 0 0 0 0 0 0 0 0]\n"
     ]
    }
   ],
   "source": [
    "y_pred = classifier.predict(file2)\n",
    "print(y_pred)"
   ]
  },
  {
   "cell_type": "code",
   "execution_count": null,
   "id": "ea9c2ed3",
   "metadata": {},
   "outputs": [],
   "source": []
  }
 ],
 "metadata": {
  "kernelspec": {
   "display_name": "Python 3",
   "language": "python",
   "name": "python3"
  },
  "language_info": {
   "codemirror_mode": {
    "name": "ipython",
    "version": 3
   },
   "file_extension": ".py",
   "mimetype": "text/x-python",
   "name": "python",
   "nbconvert_exporter": "python",
   "pygments_lexer": "ipython3",
   "version": "3.8.8"
  }
 },
 "nbformat": 4,
 "nbformat_minor": 5
}
