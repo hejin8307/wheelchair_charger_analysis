{
 "cells": [
  {
   "cell_type": "markdown",
   "id": "0928e5a5",
   "metadata": {},
   "source": [
    "### 모델 만들기"
   ]
  },
  {
   "cell_type": "code",
   "execution_count": 333,
   "id": "892c3dd7",
   "metadata": {
    "scrolled": true
   },
   "outputs": [
    {
     "data": {
      "text/html": [
       "<div>\n",
       "<style scoped>\n",
       "    .dataframe tbody tr th:only-of-type {\n",
       "        vertical-align: middle;\n",
       "    }\n",
       "\n",
       "    .dataframe tbody tr th {\n",
       "        vertical-align: top;\n",
       "    }\n",
       "\n",
       "    .dataframe thead th {\n",
       "        text-align: right;\n",
       "    }\n",
       "</style>\n",
       "<table border=\"1\" class=\"dataframe\">\n",
       "  <thead>\n",
       "    <tr style=\"text-align: right;\">\n",
       "      <th></th>\n",
       "      <th>culture</th>\n",
       "      <th>build1</th>\n",
       "      <th>build2</th>\n",
       "      <th>build3</th>\n",
       "      <th>build4</th>\n",
       "      <th>build5</th>\n",
       "      <th>build6</th>\n",
       "      <th>build7</th>\n",
       "      <th>cluster</th>\n",
       "    </tr>\n",
       "  </thead>\n",
       "  <tbody>\n",
       "    <tr>\n",
       "      <th>0</th>\n",
       "      <td>0.029197</td>\n",
       "      <td>0.505556</td>\n",
       "      <td>0.171429</td>\n",
       "      <td>0.000000</td>\n",
       "      <td>0.160920</td>\n",
       "      <td>0.157480</td>\n",
       "      <td>0.329399</td>\n",
       "      <td>0.057762</td>\n",
       "      <td>0</td>\n",
       "    </tr>\n",
       "    <tr>\n",
       "      <th>1</th>\n",
       "      <td>0.007299</td>\n",
       "      <td>0.411111</td>\n",
       "      <td>0.057143</td>\n",
       "      <td>0.148148</td>\n",
       "      <td>0.022989</td>\n",
       "      <td>0.102362</td>\n",
       "      <td>0.295422</td>\n",
       "      <td>0.043321</td>\n",
       "      <td>0</td>\n",
       "    </tr>\n",
       "    <tr>\n",
       "      <th>2</th>\n",
       "      <td>0.029197</td>\n",
       "      <td>0.500000</td>\n",
       "      <td>0.085714</td>\n",
       "      <td>0.148148</td>\n",
       "      <td>0.103448</td>\n",
       "      <td>0.118110</td>\n",
       "      <td>0.447783</td>\n",
       "      <td>0.032491</td>\n",
       "      <td>0</td>\n",
       "    </tr>\n",
       "    <tr>\n",
       "      <th>3</th>\n",
       "      <td>0.021898</td>\n",
       "      <td>0.316667</td>\n",
       "      <td>0.095238</td>\n",
       "      <td>0.037037</td>\n",
       "      <td>0.126437</td>\n",
       "      <td>0.086614</td>\n",
       "      <td>0.340486</td>\n",
       "      <td>0.010830</td>\n",
       "      <td>0</td>\n",
       "    </tr>\n",
       "    <tr>\n",
       "      <th>4</th>\n",
       "      <td>0.000000</td>\n",
       "      <td>0.405556</td>\n",
       "      <td>0.057143</td>\n",
       "      <td>0.074074</td>\n",
       "      <td>0.011494</td>\n",
       "      <td>0.031496</td>\n",
       "      <td>0.244993</td>\n",
       "      <td>0.043321</td>\n",
       "      <td>0</td>\n",
       "    </tr>\n",
       "    <tr>\n",
       "      <th>...</th>\n",
       "      <td>...</td>\n",
       "      <td>...</td>\n",
       "      <td>...</td>\n",
       "      <td>...</td>\n",
       "      <td>...</td>\n",
       "      <td>...</td>\n",
       "      <td>...</td>\n",
       "      <td>...</td>\n",
       "      <td>...</td>\n",
       "    </tr>\n",
       "    <tr>\n",
       "      <th>513</th>\n",
       "      <td>0.000000</td>\n",
       "      <td>0.244444</td>\n",
       "      <td>0.009524</td>\n",
       "      <td>0.000000</td>\n",
       "      <td>0.022989</td>\n",
       "      <td>0.007874</td>\n",
       "      <td>0.017883</td>\n",
       "      <td>0.003610</td>\n",
       "      <td>0</td>\n",
       "    </tr>\n",
       "    <tr>\n",
       "      <th>514</th>\n",
       "      <td>0.007299</td>\n",
       "      <td>0.216667</td>\n",
       "      <td>0.057143</td>\n",
       "      <td>0.037037</td>\n",
       "      <td>0.022989</td>\n",
       "      <td>0.023622</td>\n",
       "      <td>0.045422</td>\n",
       "      <td>0.021661</td>\n",
       "      <td>0</td>\n",
       "    </tr>\n",
       "    <tr>\n",
       "      <th>515</th>\n",
       "      <td>0.029197</td>\n",
       "      <td>0.200000</td>\n",
       "      <td>0.095238</td>\n",
       "      <td>0.037037</td>\n",
       "      <td>0.022989</td>\n",
       "      <td>0.039370</td>\n",
       "      <td>0.061874</td>\n",
       "      <td>0.007220</td>\n",
       "      <td>0</td>\n",
       "    </tr>\n",
       "    <tr>\n",
       "      <th>516</th>\n",
       "      <td>0.058394</td>\n",
       "      <td>0.700000</td>\n",
       "      <td>0.219048</td>\n",
       "      <td>0.259259</td>\n",
       "      <td>0.103448</td>\n",
       "      <td>0.149606</td>\n",
       "      <td>0.369099</td>\n",
       "      <td>0.104693</td>\n",
       "      <td>0</td>\n",
       "    </tr>\n",
       "    <tr>\n",
       "      <th>517</th>\n",
       "      <td>0.029197</td>\n",
       "      <td>0.227778</td>\n",
       "      <td>0.066667</td>\n",
       "      <td>0.037037</td>\n",
       "      <td>0.011494</td>\n",
       "      <td>0.055118</td>\n",
       "      <td>0.062589</td>\n",
       "      <td>0.007220</td>\n",
       "      <td>0</td>\n",
       "    </tr>\n",
       "  </tbody>\n",
       "</table>\n",
       "<p>518 rows × 9 columns</p>\n",
       "</div>"
      ],
      "text/plain": [
       "      culture    build1    build2    build3    build4    build5    build6  \\\n",
       "0    0.029197  0.505556  0.171429  0.000000  0.160920  0.157480  0.329399   \n",
       "1    0.007299  0.411111  0.057143  0.148148  0.022989  0.102362  0.295422   \n",
       "2    0.029197  0.500000  0.085714  0.148148  0.103448  0.118110  0.447783   \n",
       "3    0.021898  0.316667  0.095238  0.037037  0.126437  0.086614  0.340486   \n",
       "4    0.000000  0.405556  0.057143  0.074074  0.011494  0.031496  0.244993   \n",
       "..        ...       ...       ...       ...       ...       ...       ...   \n",
       "513  0.000000  0.244444  0.009524  0.000000  0.022989  0.007874  0.017883   \n",
       "514  0.007299  0.216667  0.057143  0.037037  0.022989  0.023622  0.045422   \n",
       "515  0.029197  0.200000  0.095238  0.037037  0.022989  0.039370  0.061874   \n",
       "516  0.058394  0.700000  0.219048  0.259259  0.103448  0.149606  0.369099   \n",
       "517  0.029197  0.227778  0.066667  0.037037  0.011494  0.055118  0.062589   \n",
       "\n",
       "       build7  cluster  \n",
       "0    0.057762        0  \n",
       "1    0.043321        0  \n",
       "2    0.032491        0  \n",
       "3    0.010830        0  \n",
       "4    0.043321        0  \n",
       "..        ...      ...  \n",
       "513  0.003610        0  \n",
       "514  0.021661        0  \n",
       "515  0.007220        0  \n",
       "516  0.104693        0  \n",
       "517  0.007220        0  \n",
       "\n",
       "[518 rows x 9 columns]"
      ]
     },
     "execution_count": 333,
     "metadata": {},
     "output_type": "execute_result"
    }
   ],
   "source": [
    "from sklearn.datasets import load_breast_cancer\n",
    "import pandas as pd\n",
    "\n",
    "file = pd.read_csv('C:/Users/user/Desktop/internship/project/data/군집분석/clustering_output.csv', encoding='euc-kr')\n",
    "file"
   ]
  },
  {
   "cell_type": "code",
   "execution_count": 104,
   "id": "94322149",
   "metadata": {},
   "outputs": [
    {
     "data": {
      "text/plain": [
       "KNeighborsClassifier(leaf_size=5, n_neighbors=1)"
      ]
     },
     "execution_count": 104,
     "metadata": {},
     "output_type": "execute_result"
    }
   ],
   "source": [
    "from sklearn.neighbors import KNeighborsClassifier\n",
    "from sklearn.model_selection import GridSearchCV\n",
    "import pandas as pd\n",
    "\n",
    "knn_parameters = [{\n",
    "    'n_neighbors': [1,3,5,7, 9, 11],\n",
    "    'leaf_size': [5, 10, 15, 20, 25, 30, 35, 40, 45, 50, 55, 60],\n",
    "    'algorithm': ['auto', 'ball_tree', 'kd_tree', 'brute'],\n",
    "    'weights': ['uniform', 'distance']}]\n",
    "knn_classifier = KNeighborsClassifier()\n",
    "clf = GridSearchCV(estimator = knn_classifier, param_grid = knn_parameters, scoring = 'accuracy', n_jobs=-1, cv=3)\n",
    "clf.fit(file_data, file_label)\n",
    "clf.best_estimator_\n",
    "# result:\n",
    "# KNeighborsClassifier(algorithm='auto', leaf_size=5, metric='minkowski',\n",
    "#                      metric_params=None, n_jobs=None, n_neighbors=5, p=2,\n",
    "#                      weights='uniform')"
   ]
  },
  {
   "cell_type": "code",
   "execution_count": 334,
   "id": "d6fc587c",
   "metadata": {},
   "outputs": [
    {
     "data": {
      "text/plain": [
       "0      0\n",
       "1      0\n",
       "2      0\n",
       "3      0\n",
       "4      0\n",
       "      ..\n",
       "513    0\n",
       "514    0\n",
       "515    0\n",
       "516    0\n",
       "517    0\n",
       "Name: cluster, Length: 518, dtype: int64"
      ]
     },
     "execution_count": 334,
     "metadata": {},
     "output_type": "execute_result"
    }
   ],
   "source": [
    "file_data = file.loc[:, ['culture', 'build1', 'build2', 'build3', 'build4', 'build5', 'build6', 'build7']]\n",
    "file_data\n",
    "\n",
    "file_label = file['cluster']\n",
    "file_label"
   ]
  },
  {
   "cell_type": "code",
   "execution_count": 335,
   "id": "fa502561",
   "metadata": {},
   "outputs": [
    {
     "data": {
      "text/html": [
       "<div>\n",
       "<style scoped>\n",
       "    .dataframe tbody tr th:only-of-type {\n",
       "        vertical-align: middle;\n",
       "    }\n",
       "\n",
       "    .dataframe tbody tr th {\n",
       "        vertical-align: top;\n",
       "    }\n",
       "\n",
       "    .dataframe thead th {\n",
       "        text-align: right;\n",
       "    }\n",
       "</style>\n",
       "<table border=\"1\" class=\"dataframe\">\n",
       "  <thead>\n",
       "    <tr style=\"text-align: right;\">\n",
       "      <th></th>\n",
       "      <th>pc1</th>\n",
       "      <th>pc2</th>\n",
       "      <th>pc3</th>\n",
       "      <th>pc4</th>\n",
       "    </tr>\n",
       "  </thead>\n",
       "  <tbody>\n",
       "    <tr>\n",
       "      <th>0</th>\n",
       "      <td>0.088897</td>\n",
       "      <td>-0.103280</td>\n",
       "      <td>-0.135368</td>\n",
       "      <td>-0.021474</td>\n",
       "    </tr>\n",
       "    <tr>\n",
       "      <th>1</th>\n",
       "      <td>-0.011613</td>\n",
       "      <td>-0.069311</td>\n",
       "      <td>0.084246</td>\n",
       "      <td>-0.021615</td>\n",
       "    </tr>\n",
       "    <tr>\n",
       "      <th>2</th>\n",
       "      <td>0.162330</td>\n",
       "      <td>-0.107248</td>\n",
       "      <td>0.035053</td>\n",
       "      <td>-0.042324</td>\n",
       "    </tr>\n",
       "    <tr>\n",
       "      <th>3</th>\n",
       "      <td>-0.029848</td>\n",
       "      <td>-0.067329</td>\n",
       "      <td>-0.012085</td>\n",
       "      <td>-0.144353</td>\n",
       "    </tr>\n",
       "    <tr>\n",
       "      <th>4</th>\n",
       "      <td>-0.096605</td>\n",
       "      <td>-0.083101</td>\n",
       "      <td>0.019172</td>\n",
       "      <td>-0.034338</td>\n",
       "    </tr>\n",
       "  </tbody>\n",
       "</table>\n",
       "</div>"
      ],
      "text/plain": [
       "        pc1       pc2       pc3       pc4\n",
       "0  0.088897 -0.103280 -0.135368 -0.021474\n",
       "1 -0.011613 -0.069311  0.084246 -0.021615\n",
       "2  0.162330 -0.107248  0.035053 -0.042324\n",
       "3 -0.029848 -0.067329 -0.012085 -0.144353\n",
       "4 -0.096605 -0.083101  0.019172 -0.034338"
      ]
     },
     "execution_count": 335,
     "metadata": {},
     "output_type": "execute_result"
    }
   ],
   "source": [
    "#pca로 변수 줄이기\n",
    "from sklearn.decomposition import PCA\n",
    "\n",
    "pca = PCA(n_components=4) # 주성분을 몇개로 할지 결정\n",
    "printcipalComponents = pca.fit_transform(file_data)\n",
    "principalDf = pd.DataFrame(data=printcipalComponents, columns = ['pc1', 'pc2','pc3','pc4'])\n",
    "principalDf.head()"
   ]
  },
  {
   "cell_type": "code",
   "execution_count": 336,
   "id": "f5ce59e4",
   "metadata": {},
   "outputs": [
    {
     "data": {
      "text/plain": [
       "0.8241837630040336"
      ]
     },
     "execution_count": 336,
     "metadata": {},
     "output_type": "execute_result"
    }
   ],
   "source": [
    "sum(pca.explained_variance_ratio_) # 약 82%설명"
   ]
  },
  {
   "cell_type": "code",
   "execution_count": 337,
   "id": "0e6ccb0e",
   "metadata": {},
   "outputs": [],
   "source": [
    "pcaDf=pd.concat([principalDf,file_label],axis=1) \n",
    "pcaDf.to_csv('C:/Users/user/Desktop/internship/project/data/머신러닝/pca_result.csv', encoding='euc-kr')"
   ]
  },
  {
   "cell_type": "code",
   "execution_count": 338,
   "id": "2d61c9d5",
   "metadata": {},
   "outputs": [
    {
     "data": {
      "text/html": [
       "<div>\n",
       "<style scoped>\n",
       "    .dataframe tbody tr th:only-of-type {\n",
       "        vertical-align: middle;\n",
       "    }\n",
       "\n",
       "    .dataframe tbody tr th {\n",
       "        vertical-align: top;\n",
       "    }\n",
       "\n",
       "    .dataframe thead th {\n",
       "        text-align: right;\n",
       "    }\n",
       "</style>\n",
       "<table border=\"1\" class=\"dataframe\">\n",
       "  <thead>\n",
       "    <tr style=\"text-align: right;\">\n",
       "      <th></th>\n",
       "      <th>pc1</th>\n",
       "      <th>pc2</th>\n",
       "      <th>pc3</th>\n",
       "      <th>pc4</th>\n",
       "      <th>cluster</th>\n",
       "    </tr>\n",
       "  </thead>\n",
       "  <tbody>\n",
       "    <tr>\n",
       "      <th>0</th>\n",
       "      <td>0.088897</td>\n",
       "      <td>-0.103280</td>\n",
       "      <td>-0.135368</td>\n",
       "      <td>-0.021474</td>\n",
       "      <td>0</td>\n",
       "    </tr>\n",
       "    <tr>\n",
       "      <th>1</th>\n",
       "      <td>-0.011613</td>\n",
       "      <td>-0.069311</td>\n",
       "      <td>0.084246</td>\n",
       "      <td>-0.021615</td>\n",
       "      <td>0</td>\n",
       "    </tr>\n",
       "    <tr>\n",
       "      <th>2</th>\n",
       "      <td>0.162330</td>\n",
       "      <td>-0.107248</td>\n",
       "      <td>0.035053</td>\n",
       "      <td>-0.042324</td>\n",
       "      <td>0</td>\n",
       "    </tr>\n",
       "    <tr>\n",
       "      <th>3</th>\n",
       "      <td>-0.029848</td>\n",
       "      <td>-0.067329</td>\n",
       "      <td>-0.012085</td>\n",
       "      <td>-0.144353</td>\n",
       "      <td>0</td>\n",
       "    </tr>\n",
       "    <tr>\n",
       "      <th>4</th>\n",
       "      <td>-0.096605</td>\n",
       "      <td>-0.083101</td>\n",
       "      <td>0.019172</td>\n",
       "      <td>-0.034338</td>\n",
       "      <td>0</td>\n",
       "    </tr>\n",
       "    <tr>\n",
       "      <th>...</th>\n",
       "      <td>...</td>\n",
       "      <td>...</td>\n",
       "      <td>...</td>\n",
       "      <td>...</td>\n",
       "      <td>...</td>\n",
       "    </tr>\n",
       "    <tr>\n",
       "      <th>513</th>\n",
       "      <td>-0.357272</td>\n",
       "      <td>0.022878</td>\n",
       "      <td>-0.006945</td>\n",
       "      <td>-0.039898</td>\n",
       "      <td>0</td>\n",
       "    </tr>\n",
       "    <tr>\n",
       "      <th>514</th>\n",
       "      <td>-0.325188</td>\n",
       "      <td>0.023537</td>\n",
       "      <td>0.024581</td>\n",
       "      <td>-0.070792</td>\n",
       "      <td>0</td>\n",
       "    </tr>\n",
       "    <tr>\n",
       "      <th>515</th>\n",
       "      <td>-0.308762</td>\n",
       "      <td>0.013934</td>\n",
       "      <td>0.027010</td>\n",
       "      <td>-0.094846</td>\n",
       "      <td>0</td>\n",
       "    </tr>\n",
       "    <tr>\n",
       "      <th>516</th>\n",
       "      <td>0.275414</td>\n",
       "      <td>-0.086809</td>\n",
       "      <td>0.002270</td>\n",
       "      <td>0.133569</td>\n",
       "      <td>0</td>\n",
       "    </tr>\n",
       "    <tr>\n",
       "      <th>517</th>\n",
       "      <td>-0.297004</td>\n",
       "      <td>0.011359</td>\n",
       "      <td>0.029961</td>\n",
       "      <td>-0.068946</td>\n",
       "      <td>0</td>\n",
       "    </tr>\n",
       "  </tbody>\n",
       "</table>\n",
       "<p>518 rows × 5 columns</p>\n",
       "</div>"
      ],
      "text/plain": [
       "          pc1       pc2       pc3       pc4  cluster\n",
       "0    0.088897 -0.103280 -0.135368 -0.021474        0\n",
       "1   -0.011613 -0.069311  0.084246 -0.021615        0\n",
       "2    0.162330 -0.107248  0.035053 -0.042324        0\n",
       "3   -0.029848 -0.067329 -0.012085 -0.144353        0\n",
       "4   -0.096605 -0.083101  0.019172 -0.034338        0\n",
       "..        ...       ...       ...       ...      ...\n",
       "513 -0.357272  0.022878 -0.006945 -0.039898        0\n",
       "514 -0.325188  0.023537  0.024581 -0.070792        0\n",
       "515 -0.308762  0.013934  0.027010 -0.094846        0\n",
       "516  0.275414 -0.086809  0.002270  0.133569        0\n",
       "517 -0.297004  0.011359  0.029961 -0.068946        0\n",
       "\n",
       "[518 rows x 5 columns]"
      ]
     },
     "execution_count": 338,
     "metadata": {},
     "output_type": "execute_result"
    }
   ],
   "source": [
    "pcaDf"
   ]
  },
  {
   "cell_type": "code",
   "execution_count": 339,
   "id": "4aa4a7d8",
   "metadata": {},
   "outputs": [],
   "source": [
    "from sklearn.model_selection import train_test_split\n",
    "\n",
    "#데이터 전처리(traing, test 데이터 분할)\n",
    "file_data = pcaDf.iloc[:, 0:-1]\n",
    "file_label = pcaDf.iloc[:,-1]\n",
    "\n",
    "# train_data, test_data, train_label, test_label = train_test_split(file_data, file_label, test_size=0.2, random_state=0, stratify=file_label)\n",
    "# print(len(train_data))\n",
    "# print(len(test_data))\n",
    "# print(len(train_label))\n",
    "# print(len(test_label))"
   ]
  },
  {
   "cell_type": "code",
   "execution_count": 84,
   "id": "72ad0940",
   "metadata": {},
   "outputs": [
    {
     "name": "stdout",
     "output_type": "stream",
     "text": [
      "Collecting imblearn\n",
      "  Downloading imblearn-0.0-py2.py3-none-any.whl (1.9 kB)\n",
      "Collecting imbalanced-learn\n",
      "  Downloading imbalanced_learn-0.8.0-py3-none-any.whl (206 kB)\n",
      "Requirement already satisfied: numpy>=1.13.3 in c:\\users\\user\\anaconda3\\lib\\site-packages (from imbalanced-learn->imblearn) (1.20.1)\n",
      "Requirement already satisfied: scipy>=0.19.1 in c:\\users\\user\\anaconda3\\lib\\site-packages (from imbalanced-learn->imblearn) (1.6.2)\n",
      "Requirement already satisfied: joblib>=0.11 in c:\\users\\user\\anaconda3\\lib\\site-packages (from imbalanced-learn->imblearn) (1.0.1)\n",
      "Requirement already satisfied: scikit-learn>=0.24 in c:\\users\\user\\anaconda3\\lib\\site-packages (from imbalanced-learn->imblearn) (0.24.1)\n",
      "Requirement already satisfied: threadpoolctl>=2.0.0 in c:\\users\\user\\anaconda3\\lib\\site-packages (from scikit-learn>=0.24->imbalanced-learn->imblearn) (2.1.0)\n",
      "Installing collected packages: imbalanced-learn, imblearn\n",
      "Successfully installed imbalanced-learn-0.8.0 imblearn-0.0\n"
     ]
    }
   ],
   "source": [
    "!pip install imblearn"
   ]
  },
  {
   "cell_type": "code",
   "execution_count": 340,
   "id": "6602e221",
   "metadata": {},
   "outputs": [],
   "source": [
    "from imblearn.over_sampling import SMOTE\n",
    "\n",
    "smote = SMOTE(random_state = 0)\n",
    "train_data_over, train_label_over = smote.fit_resample(file_data, file_label)"
   ]
  },
  {
   "cell_type": "code",
   "execution_count": 341,
   "id": "3d3f4e03",
   "metadata": {},
   "outputs": [],
   "source": [
    "from sklearn.model_selection import train_test_split\n",
    "\n",
    "train_data, test_data, train_label, test_label = train_test_split(train_data_over, train_label_over, test_size = 0.2, random_state = 100)"
   ]
  },
  {
   "cell_type": "code",
   "execution_count": 143,
   "id": "0440bbee",
   "metadata": {},
   "outputs": [],
   "source": [
    "from sklearn.model_selection import train_test_split\n",
    "\n",
    "train_data, test_data, train_label, test_label = train_test_split(train_data_over, train_label_over, test_size = 0.4, random_state = 100)\n",
    "\n",
    "train_data, validation_data, train_label, validation_label = train_test_split(train_data, train_label, test_size = 0.2, random_state = 100)"
   ]
  },
  {
   "cell_type": "code",
   "execution_count": 174,
   "id": "1a6cec88",
   "metadata": {},
   "outputs": [],
   "source": [
    "from sklearn.model_selection import train_test_split\n",
    "\n",
    "train_data, test_data, train_label, test_label = train_test_split(file_data, file_label, test_size = 0.2, random_state = 100)"
   ]
  },
  {
   "cell_type": "code",
   "execution_count": 342,
   "id": "0c493907",
   "metadata": {
    "scrolled": true
   },
   "outputs": [
    {
     "name": "stdout",
     "output_type": "stream",
     "text": [
      "798\n",
      "200\n",
      "798\n",
      "200\n"
     ]
    }
   ],
   "source": [
    "print(len(train_data))\n",
    "# print(len(validation_data))\n",
    "print(len(test_data))\n",
    "print(len(train_label))\n",
    "# print(len(validation_label))\n",
    "print(len(test_label))"
   ]
  },
  {
   "cell_type": "code",
   "execution_count": 343,
   "id": "9d1665a6",
   "metadata": {},
   "outputs": [],
   "source": [
    "from sklearn.neighbors import KNeighborsClassifier\n",
    "\n",
    "classifier = KNeighborsClassifier(n_neighbors = 7)"
   ]
  },
  {
   "cell_type": "code",
   "execution_count": 344,
   "id": "0a32d87e",
   "metadata": {},
   "outputs": [
    {
     "data": {
      "text/plain": [
       "KNeighborsClassifier(n_neighbors=7)"
      ]
     },
     "execution_count": 344,
     "metadata": {},
     "output_type": "execute_result"
    }
   ],
   "source": [
    "classifier.fit(train_data, train_label)"
   ]
  },
  {
   "cell_type": "code",
   "execution_count": 345,
   "id": "172936fe",
   "metadata": {},
   "outputs": [
    {
     "data": {
      "text/html": [
       "<div>\n",
       "<style scoped>\n",
       "    .dataframe tbody tr th:only-of-type {\n",
       "        vertical-align: middle;\n",
       "    }\n",
       "\n",
       "    .dataframe tbody tr th {\n",
       "        vertical-align: top;\n",
       "    }\n",
       "\n",
       "    .dataframe thead th {\n",
       "        text-align: right;\n",
       "    }\n",
       "</style>\n",
       "<table border=\"1\" class=\"dataframe\">\n",
       "  <thead>\n",
       "    <tr style=\"text-align: right;\">\n",
       "      <th></th>\n",
       "      <th>pc1</th>\n",
       "      <th>pc2</th>\n",
       "      <th>pc3</th>\n",
       "      <th>pc4</th>\n",
       "    </tr>\n",
       "  </thead>\n",
       "  <tbody>\n",
       "    <tr>\n",
       "      <th>159</th>\n",
       "      <td>-0.191943</td>\n",
       "      <td>0.035204</td>\n",
       "      <td>0.073266</td>\n",
       "      <td>-0.212688</td>\n",
       "    </tr>\n",
       "    <tr>\n",
       "      <th>500</th>\n",
       "      <td>-0.020656</td>\n",
       "      <td>0.123867</td>\n",
       "      <td>-0.192810</td>\n",
       "      <td>-0.034474</td>\n",
       "    </tr>\n",
       "    <tr>\n",
       "      <th>402</th>\n",
       "      <td>0.184204</td>\n",
       "      <td>-0.217339</td>\n",
       "      <td>-0.094970</td>\n",
       "      <td>-0.018035</td>\n",
       "    </tr>\n",
       "    <tr>\n",
       "      <th>551</th>\n",
       "      <td>0.616760</td>\n",
       "      <td>0.346936</td>\n",
       "      <td>0.019570</td>\n",
       "      <td>-0.098011</td>\n",
       "    </tr>\n",
       "    <tr>\n",
       "      <th>25</th>\n",
       "      <td>0.144688</td>\n",
       "      <td>0.047895</td>\n",
       "      <td>0.285771</td>\n",
       "      <td>-0.017853</td>\n",
       "    </tr>\n",
       "    <tr>\n",
       "      <th>...</th>\n",
       "      <td>...</td>\n",
       "      <td>...</td>\n",
       "      <td>...</td>\n",
       "      <td>...</td>\n",
       "    </tr>\n",
       "    <tr>\n",
       "      <th>855</th>\n",
       "      <td>0.622769</td>\n",
       "      <td>0.808406</td>\n",
       "      <td>-0.484282</td>\n",
       "      <td>-0.212489</td>\n",
       "    </tr>\n",
       "    <tr>\n",
       "      <th>871</th>\n",
       "      <td>0.457733</td>\n",
       "      <td>0.126278</td>\n",
       "      <td>0.194198</td>\n",
       "      <td>-0.048167</td>\n",
       "    </tr>\n",
       "    <tr>\n",
       "      <th>835</th>\n",
       "      <td>0.583677</td>\n",
       "      <td>0.952040</td>\n",
       "      <td>-0.578031</td>\n",
       "      <td>-0.264767</td>\n",
       "    </tr>\n",
       "    <tr>\n",
       "      <th>792</th>\n",
       "      <td>0.900641</td>\n",
       "      <td>0.178919</td>\n",
       "      <td>0.669264</td>\n",
       "      <td>-0.200920</td>\n",
       "    </tr>\n",
       "    <tr>\n",
       "      <th>520</th>\n",
       "      <td>0.568267</td>\n",
       "      <td>0.748923</td>\n",
       "      <td>-0.537667</td>\n",
       "      <td>-0.146261</td>\n",
       "    </tr>\n",
       "  </tbody>\n",
       "</table>\n",
       "<p>798 rows × 4 columns</p>\n",
       "</div>"
      ],
      "text/plain": [
       "          pc1       pc2       pc3       pc4\n",
       "159 -0.191943  0.035204  0.073266 -0.212688\n",
       "500 -0.020656  0.123867 -0.192810 -0.034474\n",
       "402  0.184204 -0.217339 -0.094970 -0.018035\n",
       "551  0.616760  0.346936  0.019570 -0.098011\n",
       "25   0.144688  0.047895  0.285771 -0.017853\n",
       "..        ...       ...       ...       ...\n",
       "855  0.622769  0.808406 -0.484282 -0.212489\n",
       "871  0.457733  0.126278  0.194198 -0.048167\n",
       "835  0.583677  0.952040 -0.578031 -0.264767\n",
       "792  0.900641  0.178919  0.669264 -0.200920\n",
       "520  0.568267  0.748923 -0.537667 -0.146261\n",
       "\n",
       "[798 rows x 4 columns]"
      ]
     },
     "execution_count": 345,
     "metadata": {},
     "output_type": "execute_result"
    }
   ],
   "source": [
    "train_data"
   ]
  },
  {
   "cell_type": "code",
   "execution_count": 346,
   "id": "03e7f4bb",
   "metadata": {},
   "outputs": [
    {
     "name": "stdout",
     "output_type": "stream",
     "text": [
      "1.0\n"
     ]
    }
   ],
   "source": [
    "print(classifier.score(test_data, test_label))"
   ]
  },
  {
   "cell_type": "code",
   "execution_count": 347,
   "id": "ceaf6b2f",
   "metadata": {},
   "outputs": [
    {
     "name": "stdout",
     "output_type": "stream",
     "text": [
      "0.9987468671679198\n"
     ]
    }
   ],
   "source": [
    "print(classifier.score(train_data, train_label))"
   ]
  },
  {
   "cell_type": "code",
   "execution_count": 348,
   "id": "ae9e91da",
   "metadata": {},
   "outputs": [
    {
     "name": "stdout",
     "output_type": "stream",
     "text": [
      "[1 1 1 0 0 0 1 0 0 0 1 1 1 0 1 0 0 1 1 1 1 1 1 0 1 0 0 0 1 0 1 1 0 1 0 0 1\n",
      " 0 1 1 0 0 0 1 0 1 0 1 0 0 0 1 0 0 1 0 1 1 0 1 0 1 1 0 0 1 0 0 0 0 0 1 1 0\n",
      " 1 0 1 1 0 0 0 1 0 0 0 0 1 0 1 0 1 0 0 0 1 0 0 0 0 0 1 0 0 0 0 0 1 1 0 1 1\n",
      " 0 1 0 0 0 0 1 0 0 1 1 0 1 1 0 1 1 0 0 0 0 0 0 1 1 0 0 0 1 1 0 0 0 0 0 0 0\n",
      " 0 1 1 0 0 0 0 1 1 0 1 0 0 1 0 1 1 1 0 1 1 1 0 0 1 0 0 0 1 1 1 1 0 1 1 0 0\n",
      " 0 1 0 1 0 1 0 1 1 1 0 1 1 1 1]\n"
     ]
    }
   ],
   "source": [
    "y_pred = classifier.predict(test_data)\n",
    "print(y_pred)"
   ]
  },
  {
   "cell_type": "code",
   "execution_count": 349,
   "id": "2ed9ce43",
   "metadata": {},
   "outputs": [
    {
     "name": "stdout",
     "output_type": "stream",
     "text": [
      "[[111   0]\n",
      " [  0  89]]\n"
     ]
    }
   ],
   "source": [
    "from sklearn.metrics import confusion_matrix\n",
    "conf_matrix= confusion_matrix(test_label, y_pred)\n",
    "print(conf_matrix)"
   ]
  },
  {
   "cell_type": "code",
   "execution_count": 350,
   "id": "b7f5f368",
   "metadata": {},
   "outputs": [
    {
     "name": "stdout",
     "output_type": "stream",
     "text": [
      "              precision    recall  f1-score   support\n",
      "\n",
      "           0       1.00      1.00      1.00       111\n",
      "           1       1.00      1.00      1.00        89\n",
      "\n",
      "    accuracy                           1.00       200\n",
      "   macro avg       1.00      1.00      1.00       200\n",
      "weighted avg       1.00      1.00      1.00       200\n",
      "\n"
     ]
    }
   ],
   "source": [
    "from sklearn.metrics import classification_report\n",
    "report = classification_report(test_label, y_pred)\n",
    "print(report)"
   ]
  },
  {
   "cell_type": "code",
   "execution_count": 73,
   "id": "33f753ab",
   "metadata": {},
   "outputs": [
    {
     "data": {
      "image/png": "[encoded data removed]",
      "text/plain": [
       "<Figure size 432x288 with 1 Axes>"
      ]
     },
     "metadata": {
      "needs_background": "light"
     },
     "output_type": "display_data"
    }
   ],
   "source": [
    "import matplotlib.pyplot as plt\n",
    "k_list = range(1,101)\n",
    "accuracies = []\n",
    "for k in k_list:\n",
    "  classifier = KNeighborsClassifier(n_neighbors = k)\n",
    "  classifier.fit(train_data, train_label)\n",
    "  accuracies.append(classifier.score(test_data, test_label))\n",
    "plt.plot(k_list, accuracies)\n",
    "plt.xlabel(\"k\")\n",
    "plt.ylabel(\"Test Accuracy\")\n",
    "# plt.title(\"Breast Cancer Classifier Accuracy\")\n",
    "plt.show()"
   ]
  },
  {
   "cell_type": "markdown",
   "id": "4760ccd6",
   "metadata": {},
   "source": [
    "### new data 예측"
   ]
  },
  {
   "cell_type": "code",
   "execution_count": 242,
   "id": "5ed7d530",
   "metadata": {
    "scrolled": true
   },
   "outputs": [
    {
     "data": {
      "text/html": [
       "<div>\n",
       "<style scoped>\n",
       "    .dataframe tbody tr th:only-of-type {\n",
       "        vertical-align: middle;\n",
       "    }\n",
       "\n",
       "    .dataframe tbody tr th {\n",
       "        vertical-align: top;\n",
       "    }\n",
       "\n",
       "    .dataframe thead th {\n",
       "        text-align: right;\n",
       "    }\n",
       "</style>\n",
       "<table border=\"1\" class=\"dataframe\">\n",
       "  <thead>\n",
       "    <tr style=\"text-align: right;\">\n",
       "      <th></th>\n",
       "      <th>build1</th>\n",
       "      <th>build2</th>\n",
       "      <th>build3</th>\n",
       "      <th>build4</th>\n",
       "      <th>build5</th>\n",
       "      <th>build6</th>\n",
       "      <th>build7</th>\n",
       "      <th>culture</th>\n",
       "    </tr>\n",
       "  </thead>\n",
       "  <tbody>\n",
       "    <tr>\n",
       "      <th>0</th>\n",
       "      <td>0.0</td>\n",
       "      <td>0.0</td>\n",
       "      <td>0.0</td>\n",
       "      <td>10.0</td>\n",
       "      <td>0.0</td>\n",
       "      <td>0.0</td>\n",
       "      <td>1.0</td>\n",
       "      <td>0.0</td>\n",
       "    </tr>\n",
       "    <tr>\n",
       "      <th>1</th>\n",
       "      <td>0.0</td>\n",
       "      <td>0.0</td>\n",
       "      <td>0.0</td>\n",
       "      <td>6.0</td>\n",
       "      <td>2.0</td>\n",
       "      <td>9.0</td>\n",
       "      <td>0.0</td>\n",
       "      <td>0.0</td>\n",
       "    </tr>\n",
       "    <tr>\n",
       "      <th>2</th>\n",
       "      <td>0.0</td>\n",
       "      <td>0.0</td>\n",
       "      <td>0.0</td>\n",
       "      <td>0.0</td>\n",
       "      <td>0.0</td>\n",
       "      <td>3.0</td>\n",
       "      <td>0.0</td>\n",
       "      <td>0.0</td>\n",
       "    </tr>\n",
       "    <tr>\n",
       "      <th>3</th>\n",
       "      <td>0.0</td>\n",
       "      <td>0.0</td>\n",
       "      <td>0.0</td>\n",
       "      <td>0.0</td>\n",
       "      <td>1.0</td>\n",
       "      <td>98.0</td>\n",
       "      <td>0.0</td>\n",
       "      <td>0.0</td>\n",
       "    </tr>\n",
       "    <tr>\n",
       "      <th>4</th>\n",
       "      <td>0.0</td>\n",
       "      <td>0.0</td>\n",
       "      <td>0.0</td>\n",
       "      <td>0.0</td>\n",
       "      <td>4.0</td>\n",
       "      <td>22.0</td>\n",
       "      <td>1.0</td>\n",
       "      <td>0.0</td>\n",
       "    </tr>\n",
       "    <tr>\n",
       "      <th>...</th>\n",
       "      <td>...</td>\n",
       "      <td>...</td>\n",
       "      <td>...</td>\n",
       "      <td>...</td>\n",
       "      <td>...</td>\n",
       "      <td>...</td>\n",
       "      <td>...</td>\n",
       "      <td>...</td>\n",
       "    </tr>\n",
       "    <tr>\n",
       "      <th>135</th>\n",
       "      <td>0.0</td>\n",
       "      <td>0.0</td>\n",
       "      <td>0.0</td>\n",
       "      <td>0.0</td>\n",
       "      <td>0.0</td>\n",
       "      <td>10.0</td>\n",
       "      <td>0.0</td>\n",
       "      <td>0.0</td>\n",
       "    </tr>\n",
       "    <tr>\n",
       "      <th>136</th>\n",
       "      <td>0.0</td>\n",
       "      <td>0.0</td>\n",
       "      <td>0.0</td>\n",
       "      <td>0.0</td>\n",
       "      <td>0.0</td>\n",
       "      <td>3.0</td>\n",
       "      <td>0.0</td>\n",
       "      <td>0.0</td>\n",
       "    </tr>\n",
       "    <tr>\n",
       "      <th>137</th>\n",
       "      <td>1.0</td>\n",
       "      <td>0.0</td>\n",
       "      <td>0.0</td>\n",
       "      <td>0.0</td>\n",
       "      <td>0.0</td>\n",
       "      <td>0.0</td>\n",
       "      <td>0.0</td>\n",
       "      <td>0.0</td>\n",
       "    </tr>\n",
       "    <tr>\n",
       "      <th>138</th>\n",
       "      <td>0.0</td>\n",
       "      <td>0.0</td>\n",
       "      <td>0.0</td>\n",
       "      <td>0.0</td>\n",
       "      <td>0.0</td>\n",
       "      <td>1.0</td>\n",
       "      <td>0.0</td>\n",
       "      <td>0.0</td>\n",
       "    </tr>\n",
       "    <tr>\n",
       "      <th>139</th>\n",
       "      <td>0.0</td>\n",
       "      <td>0.0</td>\n",
       "      <td>0.0</td>\n",
       "      <td>0.0</td>\n",
       "      <td>0.0</td>\n",
       "      <td>0.0</td>\n",
       "      <td>0.0</td>\n",
       "      <td>0.0</td>\n",
       "    </tr>\n",
       "  </tbody>\n",
       "</table>\n",
       "<p>140 rows × 8 columns</p>\n",
       "</div>"
      ],
      "text/plain": [
       "     build1  build2  build3  build4  build5  build6  build7  culture\n",
       "0       0.0     0.0     0.0    10.0     0.0     0.0     1.0      0.0\n",
       "1       0.0     0.0     0.0     6.0     2.0     9.0     0.0      0.0\n",
       "2       0.0     0.0     0.0     0.0     0.0     3.0     0.0      0.0\n",
       "3       0.0     0.0     0.0     0.0     1.0    98.0     0.0      0.0\n",
       "4       0.0     0.0     0.0     0.0     4.0    22.0     1.0      0.0\n",
       "..      ...     ...     ...     ...     ...     ...     ...      ...\n",
       "135     0.0     0.0     0.0     0.0     0.0    10.0     0.0      0.0\n",
       "136     0.0     0.0     0.0     0.0     0.0     3.0     0.0      0.0\n",
       "137     1.0     0.0     0.0     0.0     0.0     0.0     0.0      0.0\n",
       "138     0.0     0.0     0.0     0.0     0.0     1.0     0.0      0.0\n",
       "139     0.0     0.0     0.0     0.0     0.0     0.0     0.0      0.0\n",
       "\n",
       "[140 rows x 8 columns]"
      ]
     },
     "execution_count": 242,
     "metadata": {},
     "output_type": "execute_result"
    }
   ],
   "source": [
    "file2 = pd.read_csv('C:/Users/user/Desktop/internship/project/data/머신러닝/dongjak_final.csv', encoding='euc-kr')\n",
    "file2\n",
    "\n",
    "file2 = file2.iloc[:, :-1]\n",
    "file2"
   ]
  },
  {
   "cell_type": "code",
   "execution_count": 351,
   "id": "9971ad31",
   "metadata": {},
   "outputs": [
    {
     "data": {
      "text/html": [
       "<div>\n",
       "<style scoped>\n",
       "    .dataframe tbody tr th:only-of-type {\n",
       "        vertical-align: middle;\n",
       "    }\n",
       "\n",
       "    .dataframe tbody tr th {\n",
       "        vertical-align: top;\n",
       "    }\n",
       "\n",
       "    .dataframe thead th {\n",
       "        text-align: right;\n",
       "    }\n",
       "</style>\n",
       "<table border=\"1\" class=\"dataframe\">\n",
       "  <thead>\n",
       "    <tr style=\"text-align: right;\">\n",
       "      <th></th>\n",
       "      <th>pc1</th>\n",
       "      <th>pc2</th>\n",
       "      <th>pc3</th>\n",
       "      <th>pc4</th>\n",
       "    </tr>\n",
       "  </thead>\n",
       "  <tbody>\n",
       "    <tr>\n",
       "      <th>0</th>\n",
       "      <td>-0.058024</td>\n",
       "      <td>-0.009087</td>\n",
       "      <td>-0.020751</td>\n",
       "      <td>0.019139</td>\n",
       "    </tr>\n",
       "    <tr>\n",
       "      <th>1</th>\n",
       "      <td>-0.486814</td>\n",
       "      <td>0.524397</td>\n",
       "      <td>0.523797</td>\n",
       "      <td>0.090487</td>\n",
       "    </tr>\n",
       "    <tr>\n",
       "      <th>2</th>\n",
       "      <td>-0.000000</td>\n",
       "      <td>0.000000</td>\n",
       "      <td>0.000000</td>\n",
       "      <td>0.000000</td>\n",
       "    </tr>\n",
       "    <tr>\n",
       "      <th>3</th>\n",
       "      <td>-0.000000</td>\n",
       "      <td>0.000000</td>\n",
       "      <td>0.000000</td>\n",
       "      <td>0.000000</td>\n",
       "    </tr>\n",
       "    <tr>\n",
       "      <th>4</th>\n",
       "      <td>-0.114128</td>\n",
       "      <td>0.040742</td>\n",
       "      <td>0.083241</td>\n",
       "      <td>0.043177</td>\n",
       "    </tr>\n",
       "    <tr>\n",
       "      <th>...</th>\n",
       "      <td>...</td>\n",
       "      <td>...</td>\n",
       "      <td>...</td>\n",
       "      <td>...</td>\n",
       "    </tr>\n",
       "    <tr>\n",
       "      <th>131</th>\n",
       "      <td>-0.495886</td>\n",
       "      <td>-0.211812</td>\n",
       "      <td>0.100397</td>\n",
       "      <td>0.259199</td>\n",
       "    </tr>\n",
       "    <tr>\n",
       "      <th>132</th>\n",
       "      <td>-0.319205</td>\n",
       "      <td>-0.191191</td>\n",
       "      <td>0.004119</td>\n",
       "      <td>-0.100252</td>\n",
       "    </tr>\n",
       "    <tr>\n",
       "      <th>133</th>\n",
       "      <td>-0.183423</td>\n",
       "      <td>-0.000148</td>\n",
       "      <td>0.068050</td>\n",
       "      <td>-0.010199</td>\n",
       "    </tr>\n",
       "    <tr>\n",
       "      <th>134</th>\n",
       "      <td>-0.000000</td>\n",
       "      <td>0.000000</td>\n",
       "      <td>0.000000</td>\n",
       "      <td>0.000000</td>\n",
       "    </tr>\n",
       "    <tr>\n",
       "      <th>135</th>\n",
       "      <td>-0.000000</td>\n",
       "      <td>0.000000</td>\n",
       "      <td>0.000000</td>\n",
       "      <td>0.000000</td>\n",
       "    </tr>\n",
       "  </tbody>\n",
       "</table>\n",
       "<p>136 rows × 4 columns</p>\n",
       "</div>"
      ],
      "text/plain": [
       "          pc1       pc2       pc3       pc4\n",
       "0   -0.058024 -0.009087 -0.020751  0.019139\n",
       "1   -0.486814  0.524397  0.523797  0.090487\n",
       "2   -0.000000  0.000000  0.000000  0.000000\n",
       "3   -0.000000  0.000000  0.000000  0.000000\n",
       "4   -0.114128  0.040742  0.083241  0.043177\n",
       "..        ...       ...       ...       ...\n",
       "131 -0.495886 -0.211812  0.100397  0.259199\n",
       "132 -0.319205 -0.191191  0.004119 -0.100252\n",
       "133 -0.183423 -0.000148  0.068050 -0.010199\n",
       "134 -0.000000  0.000000  0.000000  0.000000\n",
       "135 -0.000000  0.000000  0.000000  0.000000\n",
       "\n",
       "[136 rows x 4 columns]"
      ]
     },
     "execution_count": 351,
     "metadata": {},
     "output_type": "execute_result"
    }
   ],
   "source": [
    "file2 = pd.read_csv('C:/Users/user/Desktop/internship/project/data/머신러닝/dongjak_preprocessing.csv', encoding='euc-kr')\n",
    "file2\n",
    "\n",
    "file2 = file2.iloc[:, 1:13]\n",
    "file2"
   ]
  },
  {
   "cell_type": "code",
   "execution_count": 352,
   "id": "7daec4bc",
   "metadata": {},
   "outputs": [
    {
     "name": "stdout",
     "output_type": "stream",
     "text": [
      "[0 0 0 0 0 0 0 0 0 0 0 0 0 0 0 0 0 0 0 0 0 0 0 0 0 0 0 0 0 0 0 0 0 0 0 0 0\n",
      " 0 0 0 0 0 0 0 0 0 0 0 0 0 0 0 0 0 0 0 0 0 0 0 0 0 0 0 0 0 0 0 0 0 0 0 0 0\n",
      " 0 0 0 0 0 0 0 0 0 0 0 0 0 0 0 0 0 0 0 0 0 0 0 0 0 0 0 0 0 0 0 0 0 0 0 0 0\n",
      " 0 0 0 0 0 0 0 0 0 0 0 0 0 0 0 0 0 0 0 0 0 0 0 0 0]\n"
     ]
    },
    {
     "data": {
      "text/plain": [
       "136"
      ]
     },
     "execution_count": 352,
     "metadata": {},
     "output_type": "execute_result"
    }
   ],
   "source": [
    "y_pred = classifier.predict(file2)\n",
    "print(y_pred)\n",
    "len(y_pred)"
   ]
  },
  {
   "cell_type": "code",
   "execution_count": 271,
   "id": "314811a0",
   "metadata": {},
   "outputs": [],
   "source": [
    "file2['pred'] = y_pred\n",
    "file2\n",
    "\n",
    "file2.to_csv(\"C:/Users/user/Desktop/internship/project/data/머신러닝/guemcheon_pred.csv\", encoding = 'utf-8')"
   ]
  },
  {
   "cell_type": "code",
   "execution_count": 151,
   "id": "b22841d7",
   "metadata": {},
   "outputs": [
    {
     "name": "stdout",
     "output_type": "stream",
     "text": [
      "[1 0 0 1 0 1 1 0 1 0 0 0 0 0 0 1 0 1 0 1 1 0 1 0 1 1 0 0 1 1 0 0 0 0 1 0 0\n",
      " 1 1 1 0 1 1 0 1 1 1 1 0 1 0 1 0 1 1 0 0 1 1 0 0 1 1 1 1 0 1 0 1 1 0 1 1 0\n",
      " 1 0 0 0 1 0 1 1 1 1 0 1 0 1 0 1 0 0 1 0 1 1 1 1 1 1 1 0 1 0 1 1 1 0 0 1 0\n",
      " 0 0 0 0 1 1 1 0 1]\n"
     ]
    }
   ],
   "source": [
    "y_pred = classifier.predict(validation_data)\n",
    "print(y_pred)"
   ]
  },
  {
   "cell_type": "code",
   "execution_count": 152,
   "id": "ea9c2ed3",
   "metadata": {},
   "outputs": [
    {
     "name": "stdout",
     "output_type": "stream",
     "text": [
      "0.9916666666666667\n"
     ]
    }
   ],
   "source": [
    "print(classifier.score(validation_data, validation_label))"
   ]
  },
  {
   "cell_type": "code",
   "execution_count": null,
   "id": "178f446c",
   "metadata": {},
   "outputs": [],
   "source": []
  }
 ],
 "metadata": {
  "kernelspec": {
   "display_name": "Python 3",
   "language": "python",
   "name": "python3"
  },
  "language_info": {
   "codemirror_mode": {
    "name": "ipython",
    "version": 3
   },
   "file_extension": ".py",
   "mimetype": "text/x-python",
   "name": "python",
   "nbconvert_exporter": "python",
   "pygments_lexer": "ipython3",
   "version": "3.8.8"
  }
 },
 "nbformat": 4,
 "nbformat_minor": 5
}
